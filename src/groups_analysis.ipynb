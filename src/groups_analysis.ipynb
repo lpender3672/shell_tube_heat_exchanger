{
 "cells": [
  {
   "cell_type": "code",
   "execution_count": 6,
   "metadata": {},
   "outputs": [],
   "source": [
    "\n",
    "import heat_exchanger\n",
    "from constants import *\n",
    "\n",
    "import pandas as pd\n",
    "import numpy as np\n",
    "import matplotlib.pyplot as plt\n",
    "\n",
    "# increase figure size\n",
    "plt.rcParams[\"figure.figsize\"] = (10, 6)\n"
   ]
  },
  {
   "cell_type": "code",
   "execution_count": 7,
   "metadata": {},
   "outputs": [],
   "source": [
    "df = pd.read_csv('2024designs.csv')\n"
   ]
  },
  {
   "cell_type": "code",
   "execution_count": 8,
   "metadata": {},
   "outputs": [],
   "source": [
    "\n",
    "def comptute_designs(df):\n",
    "    mdot_colds = np.zeros(len(df))\n",
    "    mdot_hots = np.zeros(len(df))\n",
    "    Qdots = np.zeros(len(df))\n",
    "    effs = np.zeros(len(df))\n",
    "\n",
    "    hot_passes = np.zeros(len(df))\n",
    "    cold_passes = np.zeros(len(df))\n",
    "\n",
    "    for i, row in enumerate(df.iterrows()):\n",
    "        \n",
    "        tubes = str(row[1][\"Tubes\"]).split(\",\")\n",
    "        tubes = [int(t) for t in tubes]\n",
    "        baffles = str(row[1][\"Baffles\"]).split(\",\")\n",
    "        baffles = [int(b) for b in baffles]\n",
    "        length = float(row[1][\"Tube Length\"])\n",
    "\n",
    "        hot_passes[i] = len(tubes)\n",
    "        cold_passes[i] = len(baffles)\n",
    "\n",
    "        pattern_str = row[1][\"Pattern\"]\n",
    "        if pattern_str == \"SQUARE\":\n",
    "            pattern = Pattern.SQUARE\n",
    "        elif pattern_str == \"TRIANGLE\":\n",
    "            pattern = Pattern.TRIANGLE\n",
    "        \n",
    "        HX = heat_exchanger.build_heat_exchanger(tubes, baffles, length, Side.OPPOSITE, pattern)\n",
    "        HX.set_conditions([20, 60])\n",
    "        HX.characteristic_year = row[1][\"year\"]\n",
    "\n",
    "        result = HX.compute_effectiveness(method = \"LMTD\", optimiser=\"fsolve\")\n",
    "\n",
    "        if not result:\n",
    "            continue\n",
    "\n",
    "        Qdots[i] = HX.Qdot\n",
    "        effs[i] = HX.effectiveness\n",
    "        mdot_colds[i] = HX.mdot[0]\n",
    "        mdot_hots[i] = HX.mdot[1]\n",
    "    \n",
    "    return Qdots, effs, mdot_colds, mdot_hots, hot_passes, cold_passes\n"
   ]
  },
  {
   "cell_type": "code",
   "execution_count": 9,
   "metadata": {},
   "outputs": [
    {
     "name": "stdout",
     "output_type": "stream",
     "text": [
      "FSCALE: 0.9923313064051241\n",
      "FSCALE: 0.9923313064051241\n",
      "FSCALE: 0.9923313064051241\n",
      "FSCALE: 0.9923313064051241\n",
      "FSCALE: 0.9923313064051241\n",
      "FSCALE: 0.9923313064051241\n",
      "FSCALE: 0.9923313064051241\n",
      "FSCALE: 0.9923313064051241\n",
      "FSCALE: 0.9923313064051241\n",
      "FSCALE: 0.9930852468377144\n",
      "FSCALE: 0.9930852468377144\n",
      "FSCALE: 0.9930852468377144\n",
      "FSCALE: 0.9930852468377144\n",
      "FSCALE: 0.9930852468377144\n",
      "FSCALE: 0.9930852468377144\n",
      "FSCALE: 0.9930852468377144\n",
      "FSCALE: 0.9930852468377144\n",
      "FSCALE: 0.9930852468377144\n",
      "FSCALE: 1.0000000000000002\n",
      "FSCALE: 1.0000000000000002\n",
      "FSCALE: 1.0000000000000002\n",
      "FSCALE: 1.0000000000000002\n",
      "FSCALE: 1.0000000000000002\n",
      "FSCALE: 1.0000000000000002\n",
      "FSCALE: 1.0000000000000002\n",
      "FSCALE: 1.0000000000000002\n",
      "FSCALE: 1.0000000000000002\n",
      "FSCALE: 0.9934949774124218\n",
      "FSCALE: 0.9934949774124218\n",
      "FSCALE: 0.9934949774124218\n",
      "FSCALE: 0.9934949774124218\n",
      "FSCALE: 0.9934949774124218\n",
      "FSCALE: 0.9934949774124218\n",
      "FSCALE: 0.9934949774124218\n",
      "FSCALE: 0.9934949774124218\n",
      "FSCALE: 0.9934949774124218\n",
      "FSCALE: 0.9970205562666693\n",
      "FSCALE: 0.9970205562666693\n",
      "FSCALE: 0.9970205562666693\n",
      "FSCALE: 0.9970205562666693\n",
      "FSCALE: 0.9970205562666693\n",
      "FSCALE: 0.9970205562666693\n",
      "FSCALE: 0.9970205562666693\n",
      "FSCALE: 0.9970205562666693\n",
      "FSCALE: 0.9970205562666693\n"
     ]
    }
   ],
   "source": [
    "\n",
    "\n",
    "Qdots, effs, mdot_colds, mdot_hots, hot_passes, cold_passes = comptute_designs(df)"
   ]
  },
  {
   "cell_type": "code",
   "execution_count": 12,
   "metadata": {},
   "outputs": [
    {
     "data": {
      "image/png": "[encoded data removed]",
      "text/plain": [
       "<Figure size 720x432 with 4 Axes>"
      ]
     },
     "metadata": {
      "needs_background": "light"
     },
     "output_type": "display_data"
    }
   ],
   "source": [
    "\n",
    "# plot a bar chart\n",
    "\n",
    "fig, ax = plt.subplots(2, 2)\n",
    "\n",
    "ax[0, 0].bar(range(len(Qdots)), Qdots)\n",
    "ax[0, 0].set_title(\"Qdot\")\n",
    "\n",
    "ax[0, 1].bar(range(len(effs)), effs)\n",
    "ax[0, 1].set_title(\"Effectiveness\")\n",
    "\n",
    "ax[1, 0].bar(range(len(mdot_colds)), mdot_colds)\n",
    "ax[1, 0].set_title(\"mdot cold\")\n",
    "\n",
    "ax[1, 1].bar(range(len(mdot_hots)), mdot_hots)\n",
    "ax[1, 1].set_title(\"mdot hot\")\n",
    "\n",
    "plt.show()\n"
   ]
  }
 ],
 "metadata": {
  "kernelspec": {
   "display_name": "Python 3",
   "language": "python",
   "name": "python3"
  },
  "language_info": {
   "codemirror_mode": {
    "name": "ipython",
    "version": 3
   },
   "file_extension": ".py",
   "mimetype": "text/x-python",
   "name": "python",
   "nbconvert_exporter": "python",
   "pygments_lexer": "ipython3",
   "version": "3.9.7"
  }
 },
 "nbformat": 4,
 "nbformat_minor": 2
}
